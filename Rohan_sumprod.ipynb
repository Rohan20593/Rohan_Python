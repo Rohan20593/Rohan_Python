{
 "cells": [
  {
   "cell_type": "code",
   "execution_count": 16,
   "metadata": {},
   "outputs": [
    {
     "name": "stdout",
     "output_type": "stream",
     "text": [
      "Enter the number of intergers in the list : 5\n",
      "Enter the integers \n",
      "13\n",
      "15\n",
      "87\n",
      "99\n",
      "8\n",
      "\n",
      "Pairs whose product is even and sum is odd :  [(13, 8), (15, 8), (87, 8), (99, 8)]\n"
     ]
    }
   ],
   "source": [
    "#Get number of integers in the list from user\n",
    "n=int(input(\"Enter the number of intergers in the list : \"))\n",
    "\n",
    "#Get the interger inputs\n",
    "print(\"Enter the integers \")\n",
    "inp_list=[int(input()) for i in range(n)]\n",
    "\n",
    "\n",
    "#Get all possible pairs\n",
    "all_pairs=[]\n",
    "for i in range (len(inp_list)):\n",
    "    for j in range(i+1,len(inp_list)):\n",
    "        all_pairs.append((inp_list[i],inp_list[j]))\n",
    "\n",
    "#Filter pairs whose product is even and sum is odd\n",
    "final_list= [pairs for pairs in all_pairs if ((pairs[0]*pairs[1])%2==0 and (pairs[0]+pairs[1])%2!=0)]\n",
    "\n",
    "print(\"\\nPairs whose product is even and sum is odd : \",final_list)"
   ]
  },
  {
   "cell_type": "code",
   "execution_count": null,
   "metadata": {},
   "outputs": [],
   "source": []
  }
 ],
 "metadata": {
  "kernelspec": {
   "display_name": "Python 3",
   "language": "python",
   "name": "python3"
  },
  "language_info": {
   "codemirror_mode": {
    "name": "ipython",
    "version": 3
   },
   "file_extension": ".py",
   "mimetype": "text/x-python",
   "name": "python",
   "nbconvert_exporter": "python",
   "pygments_lexer": "ipython3",
   "version": "3.7.3"
  }
 },
 "nbformat": 4,
 "nbformat_minor": 2
}
